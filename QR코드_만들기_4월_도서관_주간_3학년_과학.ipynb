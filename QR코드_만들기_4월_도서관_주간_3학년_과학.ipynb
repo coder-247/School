{
  "nbformat": 4,
  "nbformat_minor": 0,
  "metadata": {
    "colab": {
      "name": "QR코드 만들기_4월 도서관 주간_3학년_과학.ipynb",
      "provenance": [],
      "collapsed_sections": [],
      "toc_visible": true,
      "include_colab_link": true
    },
    "kernelspec": {
      "name": "python3",
      "display_name": "Python 3"
    },
    "language_info": {
      "name": "python"
    }
  },
  "cells": [
    {
      "cell_type": "markdown",
      "metadata": {
        "id": "view-in-github",
        "colab_type": "text"
      },
      "source": [
        "<a href=\"https://colab.research.google.com/github/coder-247/School/blob/main/QR%EC%BD%94%EB%93%9C_%EB%A7%8C%EB%93%A4%EA%B8%B0_4%EC%9B%94_%EB%8F%84%EC%84%9C%EA%B4%80_%EC%A3%BC%EA%B0%84_3%ED%95%99%EB%85%84_%EA%B3%BC%ED%95%99.ipynb\" target=\"_parent\"><img src=\"https://colab.research.google.com/assets/colab-badge.svg\" alt=\"Open In Colab\"/></a>"
      ]
    },
    {
      "cell_type": "markdown",
      "metadata": {
        "id": "lE4no7LhUDgf"
      },
      "source": [
        "# QR 코드 만들기\n"
      ]
    },
    {
      "cell_type": "markdown",
      "metadata": {
        "id": "fSxvBvjD0kvj"
      },
      "source": [
        "<img src=\"https://images.christiantoday.co.kr/data/images/full/329217/qr.jpg?w=654\" width=\"400px\" />"
      ]
    },
    {
      "cell_type": "markdown",
      "metadata": {
        "id": "3SS2H9B70rPT"
      },
      "source": [
        "# 라이브러리 설치   "
      ]
    },
    {
      "cell_type": "code",
      "metadata": {
        "id": "-zRIUZoRTy-3",
        "colab": {
          "base_uri": "https://localhost:8080/"
        },
        "outputId": "76877f29-a9e2-46c3-87c1-f4c467db49be"
      },
      "source": [
        "!pip install qrcode"
      ],
      "execution_count": 1,
      "outputs": [
        {
          "output_type": "stream",
          "name": "stdout",
          "text": [
            "Collecting qrcode\n",
            "  Downloading qrcode-7.3.1.tar.gz (43 kB)\n",
            "\u001b[?25l\r\u001b[K     |███████▌                        | 10 kB 18.5 MB/s eta 0:00:01\r\u001b[K     |███████████████                 | 20 kB 18.5 MB/s eta 0:00:01\r\u001b[K     |██████████████████████▋         | 30 kB 11.6 MB/s eta 0:00:01\r\u001b[K     |██████████████████████████████▏ | 40 kB 9.6 MB/s eta 0:00:01\r\u001b[K     |████████████████████████████████| 43 kB 1.0 MB/s \n",
            "\u001b[?25hBuilding wheels for collected packages: qrcode\n",
            "  Building wheel for qrcode (setup.py) ... \u001b[?25l\u001b[?25hdone\n",
            "  Created wheel for qrcode: filename=qrcode-7.3.1-py3-none-any.whl size=40402 sha256=9b8f5e270bad541f41d15c4637d282bcc9a392a576d34f674bae05c6b988041a\n",
            "  Stored in directory: /root/.cache/pip/wheels/93/d7/39/a4111be2cfb8e679938aa671a37888b6afb1f9e7d748e94492\n",
            "Successfully built qrcode\n",
            "Installing collected packages: qrcode\n",
            "Successfully installed qrcode-7.3.1\n"
          ]
        }
      ]
    },
    {
      "cell_type": "markdown",
      "metadata": {
        "id": "9OZxY4t80ucP"
      },
      "source": [
        "# 라이브러리 가져오기\n"
      ]
    },
    {
      "cell_type": "markdown",
      "metadata": {
        "id": "kKpwX_sUIpql"
      },
      "source": [
        "```python\n",
        "import qrcode\n",
        "```'\n"
      ]
    },
    {
      "cell_type": "code",
      "metadata": {
        "id": "ZJcrrQifT1IQ"
      },
      "source": [
        "# qrcode 라이브러리 임포트\n",
        "import qrcode\n"
      ],
      "execution_count": 2,
      "outputs": []
    },
    {
      "cell_type": "code",
      "metadata": {
        "id": "_2s2hhITU2tX",
        "colab": {
          "base_uri": "https://localhost:8080/",
          "height": 467
        },
        "outputId": "6a2bf864-1d7f-4699-d6a7-bdafa566e3d4"
      },
      "source": [
        "# QR코드 생성하여 img 변수에 할당\n",
        "\n",
        "img = qrcode.make( \"https://docs.google.com/forms/d/1HyNxZJkYIIcimJ75mn0f2lc9sjw759h8gxnSCifzpNw/edit\")\n",
        "img\n",
        "\n"
      ],
      "execution_count": 5,
      "outputs": [
        {
          "output_type": "execute_result",
          "data": {
            "text/plain": [
              "<qrcode.image.pil.PilImage at 0x7f1fe3552c90>"
            ],
            "image/png": "[encoded data removed]"
          },
          "metadata": {},
          "execution_count": 5
        }
      ]
    },
    {
      "cell_type": "markdown",
      "metadata": {
        "id": "ZaIuS_Dw9pR1"
      },
      "source": [
        "이미지 저장하기"
      ]
    },
    {
      "cell_type": "code",
      "metadata": {
        "id": "MEzBKWLZ92Fk"
      },
      "source": [
        "img.save('QR코드_4월_도서관주간_3학년_과학.jpg')\n",
        "\n"
      ],
      "execution_count": 6,
      "outputs": []
    },
    {
      "cell_type": "markdown",
      "metadata": {
        "id": "6EsFnpdWUpUC"
      },
      "source": [
        "(실습) 내가 좋아하는 사이트의 QR 코드를 만들어보세요. "
      ]
    },
    {
      "cell_type": "code",
      "metadata": {
        "id": "OxK_3Qt80cJG",
        "colab": {
          "base_uri": "https://localhost:8080/",
          "height": 387
        },
        "outputId": "407d2629-1239-4430-926f-51a916c67454"
      },
      "source": [
        "img =  qrcode.make(\"https://youtu.be/_-sWErQXXIM\")\n",
        "img\n",
        "\n"
      ],
      "execution_count": null,
      "outputs": [
        {
          "output_type": "execute_result",
          "data": {
            "image/png": "[encoded data removed]",
            "text/plain": [
              "<qrcode.image.pil.PilImage at 0x7f388981ca10>"
            ]
          },
          "metadata": {},
          "execution_count": 12
        }
      ]
    },
    {
      "cell_type": "code",
      "metadata": {
        "id": "9Mi63lTgq4uw"
      },
      "source": [
        ""
      ],
      "execution_count": null,
      "outputs": []
    }
  ]
}