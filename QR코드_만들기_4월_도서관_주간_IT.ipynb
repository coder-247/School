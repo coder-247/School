{
  "nbformat": 4,
  "nbformat_minor": 0,
  "metadata": {
    "colab": {
      "name": "QR코드 만들기_4월 도서관 주간_IT.ipynb",
      "provenance": [],
      "collapsed_sections": [],
      "include_colab_link": true
    },
    "kernelspec": {
      "name": "python3",
      "display_name": "Python 3"
    },
    "language_info": {
      "name": "python"
    }
  },
  "cells": [
    {
      "cell_type": "markdown",
      "metadata": {
        "id": "view-in-github",
        "colab_type": "text"
      },
      "source": [
        "<a href=\"https://colab.research.google.com/github/coder-247/School/blob/main/QR%EC%BD%94%EB%93%9C_%EB%A7%8C%EB%93%A4%EA%B8%B0_4%EC%9B%94_%EB%8F%84%EC%84%9C%EA%B4%80_%EC%A3%BC%EA%B0%84_IT.ipynb\" target=\"_parent\"><img src=\"https://colab.research.google.com/assets/colab-badge.svg\" alt=\"Open In Colab\"/></a>"
      ]
    },
    {
      "cell_type": "markdown",
      "metadata": {
        "id": "lE4no7LhUDgf"
      },
      "source": [
        "# QR 코드 만들기\n"
      ]
    },
    {
      "cell_type": "markdown",
      "metadata": {
        "id": "fSxvBvjD0kvj"
      },
      "source": [
        "<img src=\"https://images.christiantoday.co.kr/data/images/full/329217/qr.jpg?w=654\" width=\"400px\" />"
      ]
    },
    {
      "cell_type": "markdown",
      "metadata": {
        "id": "3SS2H9B70rPT"
      },
      "source": [
        "# 라이브러리 설치   "
      ]
    },
    {
      "cell_type": "code",
      "metadata": {
        "id": "-zRIUZoRTy-3",
        "colab": {
          "base_uri": "https://localhost:8080/"
        },
        "outputId": "b1d545d3-30b3-4ed4-fa4d-8d4cb835aa66"
      },
      "source": [
        "!pip install qrcode"
      ],
      "execution_count": 16,
      "outputs": [
        {
          "output_type": "stream",
          "name": "stdout",
          "text": [
            "Requirement already satisfied: qrcode in /usr/local/lib/python3.7/dist-packages (7.3.1)\n"
          ]
        }
      ]
    },
    {
      "cell_type": "markdown",
      "metadata": {
        "id": "9OZxY4t80ucP"
      },
      "source": [
        "# 라이브러리 가져오기\n"
      ]
    },
    {
      "cell_type": "markdown",
      "metadata": {
        "id": "kKpwX_sUIpql"
      },
      "source": [
        "```python\n",
        "import qrcode\n",
        "```'\n"
      ]
    },
    {
      "cell_type": "code",
      "metadata": {
        "id": "ZJcrrQifT1IQ"
      },
      "source": [
        "# qrcode 라이브러리 임포트\n",
        "import qrcode\n"
      ],
      "execution_count": 5,
      "outputs": []
    },
    {
      "cell_type": "code",
      "metadata": {
        "id": "_2s2hhITU2tX",
        "colab": {
          "base_uri": "https://localhost:8080/",
          "height": 467
        },
        "outputId": "33881166-e22a-4d39-a53c-13b06e2ca90e"
      },
      "source": [
        "# QR코드 생성하여 img 변수에 할당\n",
        "\n",
        "img = qrcode.make( \"https://docs.google.com/forms/d/1PCQqfAQNcc8hSQ0volNpvDYI9JPuN7L7ZczfeKqUWag/edit\")\n",
        "img\n",
        "\n"
      ],
      "execution_count": 7,
      "outputs": [
        {
          "output_type": "execute_result",
          "data": {
            "text/plain": [
              "<qrcode.image.pil.PilImage at 0x7f7d37f93b50>"
            ],
            "image/png": "[encoded data removed]"
          },
          "metadata": {},
          "execution_count": 7
        }
      ]
    },
    {
      "cell_type": "markdown",
      "metadata": {
        "id": "ZaIuS_Dw9pR1"
      },
      "source": [
        "이미지 저장하기"
      ]
    },
    {
      "cell_type": "code",
      "metadata": {
        "id": "MEzBKWLZ92Fk"
      },
      "source": [
        "img.save('QR코드_4월_도서관주간_IT.jpg')\n",
        "\n"
      ],
      "execution_count": 15,
      "outputs": []
    },
    {
      "cell_type": "markdown",
      "metadata": {
        "id": "6EsFnpdWUpUC"
      },
      "source": [
        "(실습) 내가 좋아하는 사이트의 QR 코드를 만들어보세요. "
      ]
    },
    {
      "cell_type": "code",
      "metadata": {
        "id": "OxK_3Qt80cJG",
        "colab": {
          "base_uri": "https://localhost:8080/",
          "height": 387
        },
        "outputId": "407d2629-1239-4430-926f-51a916c67454"
      },
      "source": [
        "img =  qrcode.make(\"https://youtu.be/_-sWErQXXIM\")\n",
        "img\n",
        "\n"
      ],
      "execution_count": null,
      "outputs": [
        {
          "output_type": "execute_result",
          "data": {
            "image/png": "[encoded data removed]",
            "text/plain": [
              "<qrcode.image.pil.PilImage at 0x7f388981ca10>"
            ]
          },
          "metadata": {},
          "execution_count": 12
        }
      ]
    },
    {
      "cell_type": "code",
      "metadata": {
        "id": "9Mi63lTgq4uw"
      },
      "source": [
        ""
      ],
      "execution_count": null,
      "outputs": []
    }
  ]
}